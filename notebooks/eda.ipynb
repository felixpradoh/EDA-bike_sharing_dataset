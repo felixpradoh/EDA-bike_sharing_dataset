{
 "cells": [
  {
   "cell_type": "markdown",
   "metadata": {},
   "source": [
    "# 0. Librerías\n",
    "\n",
    "Cargamos las librerias necesarias para ejecutar el cuaderno."
   ]
  },
  {
   "cell_type": "code",
   "execution_count": 1,
   "metadata": {},
   "outputs": [],
   "source": [
    "import pandas as pd\n",
    "import plotly.express as px\n",
    "import plotly.figure_factory as ff\n",
    "import seaborn as sns\n",
    "import matplotlib.pyplot as plt"
   ]
  },
  {
   "cell_type": "markdown",
   "metadata": {},
   "source": [
    "# 1. Data Load: Exploración del alquiler de bicicletas\n",
    "\n",
    "Exploramos el dataset de Bikeshare para entender cómo el clima, la estacionalidad y los días festivos afectan la demanda de bicicletas.\n",
    "\n",
    "Este dataset viene de serie con cierto tratamiento de los datos (ej.: la normalización de las temperaturas, humedad, velocidad del viento...)"
   ]
  },
  {
   "cell_type": "code",
   "execution_count": 2,
   "metadata": {},
   "outputs": [
    {
     "data": {
      "text/html": [
       "<div>\n",
       "<style scoped>\n",
       "    .dataframe tbody tr th:only-of-type {\n",
       "        vertical-align: middle;\n",
       "    }\n",
       "\n",
       "    .dataframe tbody tr th {\n",
       "        vertical-align: top;\n",
       "    }\n",
       "\n",
       "    .dataframe thead th {\n",
       "        text-align: right;\n",
       "    }\n",
       "</style>\n",
       "<table border=\"1\" class=\"dataframe\">\n",
       "  <thead>\n",
       "    <tr style=\"text-align: right;\">\n",
       "      <th></th>\n",
       "      <th>instant</th>\n",
       "      <th>dteday</th>\n",
       "      <th>season</th>\n",
       "      <th>yr</th>\n",
       "      <th>mnth</th>\n",
       "      <th>hr</th>\n",
       "      <th>holiday</th>\n",
       "      <th>weekday</th>\n",
       "      <th>workingday</th>\n",
       "      <th>weathersit</th>\n",
       "      <th>temp</th>\n",
       "      <th>atemp</th>\n",
       "      <th>hum</th>\n",
       "      <th>windspeed</th>\n",
       "      <th>casual</th>\n",
       "      <th>registered</th>\n",
       "      <th>cnt</th>\n",
       "    </tr>\n",
       "  </thead>\n",
       "  <tbody>\n",
       "    <tr>\n",
       "      <th>0</th>\n",
       "      <td>1</td>\n",
       "      <td>2011-01-01</td>\n",
       "      <td>1</td>\n",
       "      <td>0</td>\n",
       "      <td>1</td>\n",
       "      <td>0</td>\n",
       "      <td>0</td>\n",
       "      <td>6</td>\n",
       "      <td>0</td>\n",
       "      <td>1</td>\n",
       "      <td>0.24</td>\n",
       "      <td>0.2879</td>\n",
       "      <td>0.81</td>\n",
       "      <td>0.0</td>\n",
       "      <td>3</td>\n",
       "      <td>13</td>\n",
       "      <td>16</td>\n",
       "    </tr>\n",
       "    <tr>\n",
       "      <th>1</th>\n",
       "      <td>2</td>\n",
       "      <td>2011-01-01</td>\n",
       "      <td>1</td>\n",
       "      <td>0</td>\n",
       "      <td>1</td>\n",
       "      <td>1</td>\n",
       "      <td>0</td>\n",
       "      <td>6</td>\n",
       "      <td>0</td>\n",
       "      <td>1</td>\n",
       "      <td>0.22</td>\n",
       "      <td>0.2727</td>\n",
       "      <td>0.80</td>\n",
       "      <td>0.0</td>\n",
       "      <td>8</td>\n",
       "      <td>32</td>\n",
       "      <td>40</td>\n",
       "    </tr>\n",
       "    <tr>\n",
       "      <th>2</th>\n",
       "      <td>3</td>\n",
       "      <td>2011-01-01</td>\n",
       "      <td>1</td>\n",
       "      <td>0</td>\n",
       "      <td>1</td>\n",
       "      <td>2</td>\n",
       "      <td>0</td>\n",
       "      <td>6</td>\n",
       "      <td>0</td>\n",
       "      <td>1</td>\n",
       "      <td>0.22</td>\n",
       "      <td>0.2727</td>\n",
       "      <td>0.80</td>\n",
       "      <td>0.0</td>\n",
       "      <td>5</td>\n",
       "      <td>27</td>\n",
       "      <td>32</td>\n",
       "    </tr>\n",
       "    <tr>\n",
       "      <th>3</th>\n",
       "      <td>4</td>\n",
       "      <td>2011-01-01</td>\n",
       "      <td>1</td>\n",
       "      <td>0</td>\n",
       "      <td>1</td>\n",
       "      <td>3</td>\n",
       "      <td>0</td>\n",
       "      <td>6</td>\n",
       "      <td>0</td>\n",
       "      <td>1</td>\n",
       "      <td>0.24</td>\n",
       "      <td>0.2879</td>\n",
       "      <td>0.75</td>\n",
       "      <td>0.0</td>\n",
       "      <td>3</td>\n",
       "      <td>10</td>\n",
       "      <td>13</td>\n",
       "    </tr>\n",
       "    <tr>\n",
       "      <th>4</th>\n",
       "      <td>5</td>\n",
       "      <td>2011-01-01</td>\n",
       "      <td>1</td>\n",
       "      <td>0</td>\n",
       "      <td>1</td>\n",
       "      <td>4</td>\n",
       "      <td>0</td>\n",
       "      <td>6</td>\n",
       "      <td>0</td>\n",
       "      <td>1</td>\n",
       "      <td>0.24</td>\n",
       "      <td>0.2879</td>\n",
       "      <td>0.75</td>\n",
       "      <td>0.0</td>\n",
       "      <td>0</td>\n",
       "      <td>1</td>\n",
       "      <td>1</td>\n",
       "    </tr>\n",
       "  </tbody>\n",
       "</table>\n",
       "</div>"
      ],
      "text/plain": [
       "   instant      dteday  season  yr  mnth  hr  holiday  weekday  workingday  \\\n",
       "0        1  2011-01-01       1   0     1   0        0        6           0   \n",
       "1        2  2011-01-01       1   0     1   1        0        6           0   \n",
       "2        3  2011-01-01       1   0     1   2        0        6           0   \n",
       "3        4  2011-01-01       1   0     1   3        0        6           0   \n",
       "4        5  2011-01-01       1   0     1   4        0        6           0   \n",
       "\n",
       "   weathersit  temp   atemp   hum  windspeed  casual  registered  cnt  \n",
       "0           1  0.24  0.2879  0.81        0.0       3          13   16  \n",
       "1           1  0.22  0.2727  0.80        0.0       8          32   40  \n",
       "2           1  0.22  0.2727  0.80        0.0       5          27   32  \n",
       "3           1  0.24  0.2879  0.75        0.0       3          10   13  \n",
       "4           1  0.24  0.2879  0.75        0.0       0           1    1  "
      ]
     },
     "execution_count": 2,
     "metadata": {},
     "output_type": "execute_result"
    }
   ],
   "source": [
    "# Carga del dataset por hora\n",
    "df = pd.read_csv(\"../data/hour.csv\")\n",
    "# Leemos las primeras entradas del dataset\n",
    "df.head()"
   ]
  },
  {
   "cell_type": "markdown",
   "metadata": {},
   "source": [
    "### Descripción de las columnas del dataset\n",
    "\n",
    "El archivo `/data/readme.txt` aporta información sobre las columnas presentes en el dataset.\n",
    "\n",
    "- **instant**: índice del registro\n",
    "- **dteday**: fecha\n",
    "- **season**: estación (1: primavera, 2: verano, 3: otoño, 4: invierno)\n",
    "- **yr**: año (0: 2011, 1: 2012)\n",
    "- **mnth**: mes (1 a 12)\n",
    "- **hr**: hora (0 a 23)\n",
    "- **holiday**: si el día es festivo (1) o no (0)\n",
    "- **weekday**: día de la semana (0: domingo, 6: sábado)\n",
    "- **workingday**: si es día laboral (1) o no (0)\n",
    "- **weathersit**: situación climática (1: Despejado, 2: Niebla/Nubes, 3: Lluvia ligera/Nieve, 4: Lluvia intensa/Nieve)\n",
    "- **temp**: temperatura normalizada (dividida por el valor max 41)\n",
    "- **atemp**: sensación térmica normalizada (dividida por el valor max 50)\n",
    "- **hum**: humedad normalizada (dividida por 100, tanto por 1)\n",
    "- **windspeed**: velocidad del viento normalizada (dividida por el valor max 67)\n",
    "- **casual**: número de usuarios ocasionales\n",
    "- **registered**: número de usuarios registrados\n",
    "- **cnt**: total de alquileres de bicicletas (casual + registrados)\n"
   ]
  },
  {
   "cell_type": "markdown",
   "metadata": {},
   "source": [
    "# 2. Data Wrangling: Revisión y transformación de columnas."
   ]
  },
  {
   "cell_type": "markdown",
   "metadata": {},
   "source": [
    "Puesto que el dataset contiene varias columnas con valores normalizados y nuestro objetivo en este notebook es realizar una exploración descriptiva (no preparar los datos para un modelo predictivo concreto), vamos a realizar los siguientes pasos para facilitar la interpretación de los resultados:\n",
    "\n",
    "- Renombrar las columnas para que sean más comprensibles.\n",
    "- Desnormalizar las columnas que contienen valores escalados, devolviéndolas a sus unidades originales.\n",
    "- Crear un índice temporal a partir de la fecha y la hora.\n",
    "- Eliminar columnas que no son necesarias para el análisis exploratorio.\n",
    "- Eliminar entradas duplicadas a partir del ínidice temporal.\n",
    "- Eliminar posibles outliers dentro de un rango de interquartiles.\n",
    "\n",
    "Estas transformaciones permitirán interpretar los datos de manera más clara y realizar visualizaciones más informativas."
   ]
  },
  {
   "cell_type": "code",
   "execution_count": 3,
   "metadata": {},
   "outputs": [],
   "source": [
    "# Renombramos columnas para facilitar su comprensión\n",
    "df = df.rename(columns={\n",
    "    \"instant\": \"instante\",\n",
    "    \"dteday\": \"fecha\",\n",
    "    \"season\": \"estacion\",\n",
    "    \"yr\": \"año\",\n",
    "    \"mnth\": \"mes\",\n",
    "    \"hr\": \"hora\",\n",
    "    \"holiday\": \"festivo\",\n",
    "    \"weekday\": \"dia_semana\",\n",
    "    \"workingday\": \"dia_laboral\",\n",
    "    \"weathersit\": \"sit_meteorologica\",\n",
    "    \"hum\": \"norm_hum\",\n",
    "    \"temp\": \"norm_temp\",\n",
    "    \"atemp\": \"norm_atemp\",\n",
    "    \"windspeed\": \"norm_windspeed\",\n",
    "    \"casual\": \"casual\",\n",
    "    \"registered\": \"registrado\",\n",
    "    \"cnt\": \"num_usuarios\"\n",
    "})"
   ]
  },
  {
   "cell_type": "code",
   "execution_count": 4,
   "metadata": {},
   "outputs": [],
   "source": [
    "# Desnormalizamos las columnas previamente normalizadas\n",
    "df[\"temperatura\"] = (df[\"norm_temp\"] * 41).round(1) # en grados Celsius\n",
    "df[\"temperatura_sensacion\"] = (df[\"norm_atemp\"] * 50).round(1) # en grados Celsius\n",
    "df[\"humedad\"] = (df[\"norm_hum\"] * 100).round(2) # en porcentaje\n",
    "df[\"velocidad_viento\"] = (df[\"norm_windspeed\"] * 67).round(2) # en Km/h"
   ]
  },
  {
   "cell_type": "code",
   "execution_count": 5,
   "metadata": {},
   "outputs": [],
   "source": [
    "# Convertimos la columna 'dteday' a tipo datetime\n",
    "df[\"timestamp\"] = pd.to_datetime(df[\"fecha\"]) + pd.to_timedelta(df[\"hora\"], unit=\"h\")\n",
    "df[\"timestamp\"] = df[\"timestamp\"].dt.strftime(\"%Y-%m-%d %H:%M\")\n",
    "df = df.set_index(\"timestamp\")"
   ]
  },
  {
   "cell_type": "code",
   "execution_count": 6,
   "metadata": {},
   "outputs": [],
   "source": [
    "# Eliminamos columnas innecesarias por ahora\n",
    "df = df.drop(columns=[\"instante\", \"año\", \"mes\", \"hora\", \"fecha\", \"norm_temp\", \"norm_atemp\", \"norm_hum\", \"norm_windspeed\"], axis=1)"
   ]
  },
  {
   "cell_type": "code",
   "execution_count": 7,
   "metadata": {
    "vscode": {
     "languageId": "powershell"
    }
   },
   "outputs": [],
   "source": [
    "# Mostrar filas duplicadas\n",
    "duplicados = df[df.index.duplicated()]\n",
    "duplicados\n",
    "\n",
    "# Eliminar duplicados del dataset\n",
    "df = df[~df.index.duplicated()]"
   ]
  },
  {
   "cell_type": "code",
   "execution_count": 8,
   "metadata": {
    "vscode": {
     "languageId": "powershell"
    }
   },
   "outputs": [],
   "source": [
    "# Eliminar outliers fuera del rango intercuartílico para todas las columnas numéricas\n",
    "Q1 = df.quantile(0.25)\n",
    "Q3 = df.quantile(0.75)\n",
    "IQR = Q3 - Q1\n",
    "\n",
    "# Nos quedamos solo con los datos dentro del rango permitido para todas las columnas numéricas\n",
    "df = df[~((df < (Q1 - 1.5 * IQR)) | (df > (Q3 + 1.5 * IQR))).any(axis=1)]"
   ]
  },
  {
   "cell_type": "markdown",
   "metadata": {},
   "source": [
    "## Descripción del dataset\n",
    "\n",
    "Una vez seleccionadas las columnas necesarias para el análisis, vamos a ver una descripción de los valores que presentan cada una."
   ]
  },
  {
   "cell_type": "code",
   "execution_count": 9,
   "metadata": {},
   "outputs": [
    {
     "data": {
      "text/html": [
       "<div>\n",
       "<style scoped>\n",
       "    .dataframe tbody tr th:only-of-type {\n",
       "        vertical-align: middle;\n",
       "    }\n",
       "\n",
       "    .dataframe tbody tr th {\n",
       "        vertical-align: top;\n",
       "    }\n",
       "\n",
       "    .dataframe thead th {\n",
       "        text-align: right;\n",
       "    }\n",
       "</style>\n",
       "<table border=\"1\" class=\"dataframe\">\n",
       "  <thead>\n",
       "    <tr style=\"text-align: right;\">\n",
       "      <th></th>\n",
       "      <th>tipo</th>\n",
       "      <th>nulos</th>\n",
       "      <th>n_unique</th>\n",
       "    </tr>\n",
       "  </thead>\n",
       "  <tbody>\n",
       "    <tr>\n",
       "      <th>estacion</th>\n",
       "      <td>int64</td>\n",
       "      <td>0</td>\n",
       "      <td>4</td>\n",
       "    </tr>\n",
       "    <tr>\n",
       "      <th>festivo</th>\n",
       "      <td>int64</td>\n",
       "      <td>0</td>\n",
       "      <td>1</td>\n",
       "    </tr>\n",
       "    <tr>\n",
       "      <th>dia_semana</th>\n",
       "      <td>int64</td>\n",
       "      <td>0</td>\n",
       "      <td>7</td>\n",
       "    </tr>\n",
       "    <tr>\n",
       "      <th>dia_laboral</th>\n",
       "      <td>int64</td>\n",
       "      <td>0</td>\n",
       "      <td>2</td>\n",
       "    </tr>\n",
       "    <tr>\n",
       "      <th>sit_meteorologica</th>\n",
       "      <td>int64</td>\n",
       "      <td>0</td>\n",
       "      <td>3</td>\n",
       "    </tr>\n",
       "    <tr>\n",
       "      <th>casual</th>\n",
       "      <td>int64</td>\n",
       "      <td>0</td>\n",
       "      <td>115</td>\n",
       "    </tr>\n",
       "    <tr>\n",
       "      <th>registrado</th>\n",
       "      <td>int64</td>\n",
       "      <td>0</td>\n",
       "      <td>499</td>\n",
       "    </tr>\n",
       "    <tr>\n",
       "      <th>num_usuarios</th>\n",
       "      <td>int64</td>\n",
       "      <td>0</td>\n",
       "      <td>581</td>\n",
       "    </tr>\n",
       "    <tr>\n",
       "      <th>temperatura</th>\n",
       "      <td>float64</td>\n",
       "      <td>0</td>\n",
       "      <td>50</td>\n",
       "    </tr>\n",
       "    <tr>\n",
       "      <th>temperatura_sensacion</th>\n",
       "      <td>float64</td>\n",
       "      <td>0</td>\n",
       "      <td>65</td>\n",
       "    </tr>\n",
       "    <tr>\n",
       "      <th>humedad</th>\n",
       "      <td>float64</td>\n",
       "      <td>0</td>\n",
       "      <td>87</td>\n",
       "    </tr>\n",
       "    <tr>\n",
       "      <th>velocidad_viento</th>\n",
       "      <td>float64</td>\n",
       "      <td>0</td>\n",
       "      <td>16</td>\n",
       "    </tr>\n",
       "  </tbody>\n",
       "</table>\n",
       "</div>"
      ],
      "text/plain": [
       "                          tipo  nulos  n_unique\n",
       "estacion                 int64      0         4\n",
       "festivo                  int64      0         1\n",
       "dia_semana               int64      0         7\n",
       "dia_laboral              int64      0         2\n",
       "sit_meteorologica        int64      0         3\n",
       "casual                   int64      0       115\n",
       "registrado               int64      0       499\n",
       "num_usuarios             int64      0       581\n",
       "temperatura            float64      0        50\n",
       "temperatura_sensacion  float64      0        65\n",
       "humedad                float64      0        87\n",
       "velocidad_viento       float64      0        16"
      ]
     },
     "execution_count": 9,
     "metadata": {},
     "output_type": "execute_result"
    }
   ],
   "source": [
    "# Crear un DataFrame resumen con info y nunique\n",
    "info = pd.DataFrame({\n",
    "    \"tipo\": df.dtypes,\n",
    "    \"nulos\": df.isnull().sum(),\n",
    "    \"n_unique\": df.nunique()\n",
    "})\n",
    "info"
   ]
  },
  {
   "cell_type": "markdown",
   "metadata": {},
   "source": [
    "El DataFrame anterior aporta la siguiente información:\n",
    "\n",
    "- No hay valores nulos ni NaNs.\n",
    "- El tipo de datos de cada columna (int64 o float64) es el adecuado para su contenido.\n",
    "- Los valores únicos de las columnas `estacion`, `festivo`, `dia_semana`, `dia_laboral` y `sit_meteorologica` coinciden con la información proporcionada en el archivo `Readme.txt`. Estas variables parecen ser categóricas y, probablemente, se les aplicó un one-hot encoding previamente."
   ]
  },
  {
   "cell_type": "code",
   "execution_count": 10,
   "metadata": {},
   "outputs": [
    {
     "data": {
      "text/html": [
       "<div>\n",
       "<style scoped>\n",
       "    .dataframe tbody tr th:only-of-type {\n",
       "        vertical-align: middle;\n",
       "    }\n",
       "\n",
       "    .dataframe tbody tr th {\n",
       "        vertical-align: top;\n",
       "    }\n",
       "\n",
       "    .dataframe thead th {\n",
       "        text-align: right;\n",
       "    }\n",
       "</style>\n",
       "<table border=\"1\" class=\"dataframe\">\n",
       "  <thead>\n",
       "    <tr style=\"text-align: right;\">\n",
       "      <th></th>\n",
       "      <th>estacion</th>\n",
       "      <th>festivo</th>\n",
       "      <th>dia_semana</th>\n",
       "      <th>dia_laboral</th>\n",
       "      <th>sit_meteorologica</th>\n",
       "      <th>casual</th>\n",
       "      <th>registrado</th>\n",
       "      <th>num_usuarios</th>\n",
       "      <th>temperatura</th>\n",
       "      <th>temperatura_sensacion</th>\n",
       "      <th>humedad</th>\n",
       "      <th>velocidad_viento</th>\n",
       "    </tr>\n",
       "  </thead>\n",
       "  <tbody>\n",
       "    <tr>\n",
       "      <th>count</th>\n",
       "      <td>14799.00</td>\n",
       "      <td>14799.0</td>\n",
       "      <td>14799.00</td>\n",
       "      <td>14799.00</td>\n",
       "      <td>14799.00</td>\n",
       "      <td>14799.00</td>\n",
       "      <td>14799.00</td>\n",
       "      <td>14799.00</td>\n",
       "      <td>14799.00</td>\n",
       "      <td>14799.00</td>\n",
       "      <td>14799.00</td>\n",
       "      <td>14799.00</td>\n",
       "    </tr>\n",
       "    <tr>\n",
       "      <th>mean</th>\n",
       "      <td>2.49</td>\n",
       "      <td>0.0</td>\n",
       "      <td>3.02</td>\n",
       "      <td>0.73</td>\n",
       "      <td>1.44</td>\n",
       "      <td>23.77</td>\n",
       "      <td>125.06</td>\n",
       "      <td>148.83</td>\n",
       "      <td>19.82</td>\n",
       "      <td>23.22</td>\n",
       "      <td>64.50</td>\n",
       "      <td>12.07</td>\n",
       "    </tr>\n",
       "    <tr>\n",
       "      <th>std</th>\n",
       "      <td>1.12</td>\n",
       "      <td>0.0</td>\n",
       "      <td>1.95</td>\n",
       "      <td>0.44</td>\n",
       "      <td>0.65</td>\n",
       "      <td>26.52</td>\n",
       "      <td>113.95</td>\n",
       "      <td>131.38</td>\n",
       "      <td>7.83</td>\n",
       "      <td>8.52</td>\n",
       "      <td>18.87</td>\n",
       "      <td>7.49</td>\n",
       "    </tr>\n",
       "    <tr>\n",
       "      <th>min</th>\n",
       "      <td>1.00</td>\n",
       "      <td>0.0</td>\n",
       "      <td>0.00</td>\n",
       "      <td>0.00</td>\n",
       "      <td>1.00</td>\n",
       "      <td>0.00</td>\n",
       "      <td>0.00</td>\n",
       "      <td>1.00</td>\n",
       "      <td>0.80</td>\n",
       "      <td>0.00</td>\n",
       "      <td>8.00</td>\n",
       "      <td>0.00</td>\n",
       "    </tr>\n",
       "    <tr>\n",
       "      <th>25%</th>\n",
       "      <td>1.00</td>\n",
       "      <td>0.0</td>\n",
       "      <td>1.00</td>\n",
       "      <td>0.00</td>\n",
       "      <td>1.00</td>\n",
       "      <td>3.00</td>\n",
       "      <td>28.00</td>\n",
       "      <td>33.00</td>\n",
       "      <td>13.10</td>\n",
       "      <td>15.90</td>\n",
       "      <td>50.00</td>\n",
       "      <td>7.00</td>\n",
       "    </tr>\n",
       "    <tr>\n",
       "      <th>50%</th>\n",
       "      <td>2.00</td>\n",
       "      <td>0.0</td>\n",
       "      <td>3.00</td>\n",
       "      <td>1.00</td>\n",
       "      <td>1.00</td>\n",
       "      <td>13.00</td>\n",
       "      <td>100.00</td>\n",
       "      <td>120.00</td>\n",
       "      <td>19.70</td>\n",
       "      <td>23.50</td>\n",
       "      <td>65.00</td>\n",
       "      <td>11.00</td>\n",
       "    </tr>\n",
       "    <tr>\n",
       "      <th>75%</th>\n",
       "      <td>3.00</td>\n",
       "      <td>0.0</td>\n",
       "      <td>5.00</td>\n",
       "      <td>1.00</td>\n",
       "      <td>2.00</td>\n",
       "      <td>37.00</td>\n",
       "      <td>186.00</td>\n",
       "      <td>229.00</td>\n",
       "      <td>26.20</td>\n",
       "      <td>30.30</td>\n",
       "      <td>81.00</td>\n",
       "      <td>17.00</td>\n",
       "    </tr>\n",
       "    <tr>\n",
       "      <th>max</th>\n",
       "      <td>4.00</td>\n",
       "      <td>0.0</td>\n",
       "      <td>6.00</td>\n",
       "      <td>1.00</td>\n",
       "      <td>3.00</td>\n",
       "      <td>114.00</td>\n",
       "      <td>499.00</td>\n",
       "      <td>594.00</td>\n",
       "      <td>41.00</td>\n",
       "      <td>50.00</td>\n",
       "      <td>100.00</td>\n",
       "      <td>31.00</td>\n",
       "    </tr>\n",
       "  </tbody>\n",
       "</table>\n",
       "</div>"
      ],
      "text/plain": [
       "       estacion  festivo  dia_semana  dia_laboral  sit_meteorologica  \\\n",
       "count  14799.00  14799.0    14799.00     14799.00           14799.00   \n",
       "mean       2.49      0.0        3.02         0.73               1.44   \n",
       "std        1.12      0.0        1.95         0.44               0.65   \n",
       "min        1.00      0.0        0.00         0.00               1.00   \n",
       "25%        1.00      0.0        1.00         0.00               1.00   \n",
       "50%        2.00      0.0        3.00         1.00               1.00   \n",
       "75%        3.00      0.0        5.00         1.00               2.00   \n",
       "max        4.00      0.0        6.00         1.00               3.00   \n",
       "\n",
       "         casual  registrado  num_usuarios  temperatura  temperatura_sensacion  \\\n",
       "count  14799.00    14799.00      14799.00     14799.00               14799.00   \n",
       "mean      23.77      125.06        148.83        19.82                  23.22   \n",
       "std       26.52      113.95        131.38         7.83                   8.52   \n",
       "min        0.00        0.00          1.00         0.80                   0.00   \n",
       "25%        3.00       28.00         33.00        13.10                  15.90   \n",
       "50%       13.00      100.00        120.00        19.70                  23.50   \n",
       "75%       37.00      186.00        229.00        26.20                  30.30   \n",
       "max      114.00      499.00        594.00        41.00                  50.00   \n",
       "\n",
       "        humedad  velocidad_viento  \n",
       "count  14799.00          14799.00  \n",
       "mean      64.50             12.07  \n",
       "std       18.87              7.49  \n",
       "min        8.00              0.00  \n",
       "25%       50.00              7.00  \n",
       "50%       65.00             11.00  \n",
       "75%       81.00             17.00  \n",
       "max      100.00             31.00  "
      ]
     },
     "execution_count": 10,
     "metadata": {},
     "output_type": "execute_result"
    }
   ],
   "source": [
    "# Resumen estadístico del DataFrame\n",
    "df.describe().round(2)"
   ]
  },
  {
   "cell_type": "markdown",
   "metadata": {},
   "source": [
    "Todos los valores estadisticos mostrados en la tabla contienen valores normales dentro de sus rango."
   ]
  },
  {
   "cell_type": "markdown",
   "metadata": {},
   "source": [
    "# 3. Data Visualization: Relaciones a partir de gráficos"
   ]
  },
  {
   "cell_type": "markdown",
   "metadata": {},
   "source": [
    "## Distribución de la demanda de bicicletas\n"
   ]
  },
  {
   "cell_type": "code",
   "execution_count": 11,
   "metadata": {},
   "outputs": [
    {
     "data": {
      "image/png": "[encoded data removed]",
      "text/plain": [
       "<Figure size 500x500 with 1 Axes>"
      ]
     },
     "metadata": {},
     "output_type": "display_data"
    }
   ],
   "source": [
    "# Visualización de la distribución de usuarios totales\n",
    "sns.displot(\n",
    "    data=df,\n",
    "    x=\"num_usuarios\",\n",
    "    kde=True,\n",
    ")\n",
    "plt.title('Distribución de usuarios totales')\n",
    "plt.xlabel('Número de usuarios')\n",
    "plt.ylabel('Frecuencia')\n",
    "plt.show()"
   ]
  },
  {
   "cell_type": "code",
   "execution_count": 15,
   "metadata": {},
   "outputs": [
    {
     "data": {
      "application/vnd.plotly.v1+json": {
       "config": {
        "plotlyServerURL": "https://plot.ly"
       },
       "data": [
        {
         "legendgroup": "Usuarios",
         "marker": {
          "color": "rgb(31, 119, 180)"
         },
         "mode": "lines",
         "name": "Usuarios",
         "showlegend": true,
         "type": "scatter",
         "x": [
          1,
          2.186,
          3.372,
          4.558,
          5.744,
          6.93,
          8.116,
          9.302,
          10.488,
          11.674,
          12.86,
          14.046,
          15.232,
          16.418,
          17.604,
          18.79,
          19.976,
          21.162,
          22.348,
          23.534,
          24.72,
          25.906,
          27.092,
          28.278,
          29.464,
          30.65,
          31.836,
          33.022,
          34.208,
          35.394,
          36.58,
          37.766,
          38.952,
          40.138,
          41.324,
          42.51,
          43.696,
          44.882,
          46.068,
          47.254,
          48.44,
          49.626,
          50.812,
          51.998,
          53.184,
          54.37,
          55.556,
          56.742,
          57.928,
          59.114,
          60.3,
          61.486,
          62.672,
          63.858,
          65.044,
          66.23,
          67.416,
          68.602,
          69.788,
          70.974,
          72.16,
          73.346,
          74.532,
          75.718,
          76.904,
          78.09,
          79.276,
          80.462,
          81.648,
          82.834,
          84.02,
          85.206,
          86.392,
          87.578,
          88.764,
          89.95,
          91.136,
          92.322,
          93.508,
          94.694,
          95.88,
          97.066,
          98.252,
          99.438,
          100.624,
          101.81,
          102.996,
          104.182,
          105.368,
          106.554,
          107.74,
          108.926,
          110.112,
          111.298,
          112.484,
          113.67,
          114.856,
          116.042,
          117.228,
          118.414,
          119.6,
          120.786,
          121.972,
          123.158,
          124.344,
          125.53,
          126.716,
          127.902,
          129.088,
          130.274,
          131.46,
          132.646,
          133.832,
          135.018,
          136.204,
          137.39,
          138.576,
          139.762,
          140.948,
          142.134,
          143.32,
          144.506,
          145.692,
          146.878,
          148.064,
          149.25,
          150.436,
          151.622,
          152.808,
          153.994,
          155.18,
          156.366,
          157.552,
          158.738,
          159.924,
          161.11,
          162.296,
          163.482,
          164.668,
          165.854,
          167.04,
          168.226,
          169.412,
          170.598,
          171.784,
          172.97,
          174.156,
          175.342,
          176.528,
          177.714,
          178.9,
          180.086,
          181.272,
          182.458,
          183.644,
          184.83,
          186.016,
          187.202,
          188.388,
          189.574,
          190.76,
          191.946,
          193.132,
          194.318,
          195.504,
          196.69,
          197.876,
          199.062,
          200.248,
          201.434,
          202.62,
          203.806,
          204.992,
          206.178,
          207.364,
          208.55,
          209.736,
          210.922,
          212.108,
          213.294,
          214.48,
          215.666,
          216.852,
          218.038,
          219.224,
          220.41,
          221.596,
          222.782,
          223.968,
          225.154,
          226.34,
          227.526,
          228.712,
          229.898,
          231.084,
          232.27,
          233.456,
          234.642,
          235.828,
          237.014,
          238.2,
          239.386,
          240.572,
          241.758,
          242.944,
          244.13,
          245.316,
          246.502,
          247.688,
          248.874,
          250.06,
          251.246,
          252.432,
          253.618,
          254.804,
          255.99,
          257.176,
          258.362,
          259.548,
          260.734,
          261.92,
          263.106,
          264.292,
          265.478,
          266.664,
          267.85,
          269.036,
          270.222,
          271.408,
          272.594,
          273.78,
          274.966,
          276.152,
          277.338,
          278.524,
          279.71,
          280.896,
          282.082,
          283.268,
          284.454,
          285.64,
          286.826,
          288.012,
          289.198,
          290.384,
          291.57,
          292.756,
          293.942,
          295.128,
          296.314,
          297.5,
          298.686,
          299.872,
          301.058,
          302.244,
          303.43,
          304.616,
          305.802,
          306.988,
          308.174,
          309.36,
          310.546,
          311.732,
          312.918,
          314.104,
          315.29,
          316.476,
          317.662,
          318.848,
          320.034,
          321.22,
          322.406,
          323.592,
          324.778,
          325.964,
          327.15,
          328.336,
          329.522,
          330.708,
          331.894,
          333.08,
          334.266,
          335.452,
          336.638,
          337.824,
          339.01,
          340.196,
          341.382,
          342.568,
          343.754,
          344.94,
          346.126,
          347.312,
          348.498,
          349.684,
          350.87,
          352.056,
          353.242,
          354.428,
          355.614,
          356.8,
          357.986,
          359.172,
          360.358,
          361.544,
          362.73,
          363.916,
          365.102,
          366.288,
          367.474,
          368.66,
          369.846,
          371.032,
          372.218,
          373.404,
          374.59,
          375.776,
          376.962,
          378.148,
          379.334,
          380.52,
          381.706,
          382.892,
          384.078,
          385.264,
          386.45,
          387.636,
          388.822,
          390.008,
          391.194,
          392.38,
          393.566,
          394.752,
          395.938,
          397.124,
          398.31,
          399.496,
          400.682,
          401.868,
          403.054,
          404.24,
          405.426,
          406.612,
          407.798,
          408.984,
          410.17,
          411.356,
          412.542,
          413.728,
          414.914,
          416.1,
          417.286,
          418.472,
          419.658,
          420.844,
          422.03,
          423.216,
          424.402,
          425.588,
          426.774,
          427.96,
          429.146,
          430.332,
          431.518,
          432.704,
          433.89,
          435.076,
          436.262,
          437.448,
          438.634,
          439.82,
          441.006,
          442.192,
          443.378,
          444.564,
          445.75,
          446.936,
          448.122,
          449.308,
          450.494,
          451.68,
          452.866,
          454.052,
          455.238,
          456.424,
          457.61,
          458.796,
          459.982,
          461.168,
          462.354,
          463.54,
          464.726,
          465.912,
          467.098,
          468.284,
          469.47,
          470.656,
          471.842,
          473.028,
          474.214,
          475.4,
          476.586,
          477.772,
          478.958,
          480.144,
          481.33,
          482.516,
          483.702,
          484.888,
          486.074,
          487.26,
          488.446,
          489.632,
          490.818,
          492.004,
          493.19,
          494.376,
          495.562,
          496.748,
          497.934,
          499.12,
          500.306,
          501.492,
          502.678,
          503.864,
          505.05,
          506.236,
          507.422,
          508.608,
          509.794,
          510.98,
          512.1659999999999,
          513.352,
          514.538,
          515.724,
          516.91,
          518.096,
          519.282,
          520.468,
          521.654,
          522.84,
          524.026,
          525.212,
          526.398,
          527.584,
          528.77,
          529.956,
          531.142,
          532.328,
          533.514,
          534.7,
          535.886,
          537.072,
          538.258,
          539.444,
          540.63,
          541.816,
          543.002,
          544.188,
          545.374,
          546.56,
          547.746,
          548.932,
          550.118,
          551.304,
          552.49,
          553.676,
          554.862,
          556.048,
          557.234,
          558.42,
          559.606,
          560.792,
          561.978,
          563.164,
          564.35,
          565.536,
          566.722,
          567.908,
          569.094,
          570.28,
          571.466,
          572.652,
          573.838,
          575.024,
          576.21,
          577.396,
          578.582,
          579.768,
          580.954,
          582.14,
          583.326,
          584.512,
          585.698,
          586.884,
          588.07,
          589.256,
          590.442,
          591.628,
          592.814
         ],
         "xaxis": "x",
         "y": {
          "bdata": "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",
          "dtype": "f8"
         },
         "yaxis": "y"
        }
       ],
       "layout": {
        "barmode": "overlay",
        "hovermode": "closest",
        "legend": {
         "traceorder": "reversed"
        },
        "template": {
         "data": {
          "bar": [
           {
            "error_x": {
             "color": "#2a3f5f"
            },
            "error_y": {
             "color": "#2a3f5f"
            },
            "marker": {
             "line": {
              "color": "#E5ECF6",
              "width": 0.5
             },
             "pattern": {
              "fillmode": "overlay",
              "size": 10,
              "solidity": 0.2
             }
            },
            "type": "bar"
           }
          ],
          "barpolar": [
           {
            "marker": {
             "line": {
              "color": "#E5ECF6",
              "width": 0.5
             },
             "pattern": {
              "fillmode": "overlay",
              "size": 10,
              "solidity": 0.2
             }
            },
            "type": "barpolar"
           }
          ],
          "carpet": [
           {
            "aaxis": {
             "endlinecolor": "#2a3f5f",
             "gridcolor": "white",
             "linecolor": "white",
             "minorgridcolor": "white",
             "startlinecolor": "#2a3f5f"
            },
            "baxis": {
             "endlinecolor": "#2a3f5f",
             "gridcolor": "white",
             "linecolor": "white",
             "minorgridcolor": "white",
             "startlinecolor": "#2a3f5f"
            },
            "type": "carpet"
           }
          ],
          "choropleth": [
           {
            "colorbar": {
             "outlinewidth": 0,
             "ticks": ""
            },
            "type": "choropleth"
           }
          ],
          "contour": [
           {
            "colorbar": {
             "outlinewidth": 0,
             "ticks": ""
            },
            "colorscale": [
             [
              0,
              "#0d0887"
             ],
             [
              0.1111111111111111,
              "#46039f"
             ],
             [
              0.2222222222222222,
              "#7201a8"
             ],
             [
              0.3333333333333333,
              "#9c179e"
             ],
             [
              0.4444444444444444,
              "#bd3786"
             ],
             [
              0.5555555555555556,
              "#d8576b"
             ],
             [
              0.6666666666666666,
              "#ed7953"
             ],
             [
              0.7777777777777778,
              "#fb9f3a"
             ],
             [
              0.8888888888888888,
              "#fdca26"
             ],
             [
              1,
              "#f0f921"
             ]
            ],
            "type": "contour"
           }
          ],
          "contourcarpet": [
           {
            "colorbar": {
             "outlinewidth": 0,
             "ticks": ""
            },
            "type": "contourcarpet"
           }
          ],
          "heatmap": [
           {
            "colorbar": {
             "outlinewidth": 0,
             "ticks": ""
            },
            "colorscale": [
             [
              0,
              "#0d0887"
             ],
             [
              0.1111111111111111,
              "#46039f"
             ],
             [
              0.2222222222222222,
              "#7201a8"
             ],
             [
              0.3333333333333333,
              "#9c179e"
             ],
             [
              0.4444444444444444,
              "#bd3786"
             ],
             [
              0.5555555555555556,
              "#d8576b"
             ],
             [
              0.6666666666666666,
              "#ed7953"
             ],
             [
              0.7777777777777778,
              "#fb9f3a"
             ],
             [
              0.8888888888888888,
              "#fdca26"
             ],
             [
              1,
              "#f0f921"
             ]
            ],
            "type": "heatmap"
           }
          ],
          "histogram": [
           {
            "marker": {
             "pattern": {
              "fillmode": "overlay",
              "size": 10,
              "solidity": 0.2
             }
            },
            "type": "histogram"
           }
          ],
          "histogram2d": [
           {
            "colorbar": {
             "outlinewidth": 0,
             "ticks": ""
            },
            "colorscale": [
             [
              0,
              "#0d0887"
             ],
             [
              0.1111111111111111,
              "#46039f"
             ],
             [
              0.2222222222222222,
              "#7201a8"
             ],
             [
              0.3333333333333333,
              "#9c179e"
             ],
             [
              0.4444444444444444,
              "#bd3786"
             ],
             [
              0.5555555555555556,
              "#d8576b"
             ],
             [
              0.6666666666666666,
              "#ed7953"
             ],
             [
              0.7777777777777778,
              "#fb9f3a"
             ],
             [
              0.8888888888888888,
              "#fdca26"
             ],
             [
              1,
              "#f0f921"
             ]
            ],
            "type": "histogram2d"
           }
          ],
          "histogram2dcontour": [
           {
            "colorbar": {
             "outlinewidth": 0,
             "ticks": ""
            },
            "colorscale": [
             [
              0,
              "#0d0887"
             ],
             [
              0.1111111111111111,
              "#46039f"
             ],
             [
              0.2222222222222222,
              "#7201a8"
             ],
             [
              0.3333333333333333,
              "#9c179e"
             ],
             [
              0.4444444444444444,
              "#bd3786"
             ],
             [
              0.5555555555555556,
              "#d8576b"
             ],
             [
              0.6666666666666666,
              "#ed7953"
             ],
             [
              0.7777777777777778,
              "#fb9f3a"
             ],
             [
              0.8888888888888888,
              "#fdca26"
             ],
             [
              1,
              "#f0f921"
             ]
            ],
            "type": "histogram2dcontour"
           }
          ],
          "mesh3d": [
           {
            "colorbar": {
             "outlinewidth": 0,
             "ticks": ""
            },
            "type": "mesh3d"
           }
          ],
          "parcoords": [
           {
            "line": {
             "colorbar": {
              "outlinewidth": 0,
              "ticks": ""
             }
            },
            "type": "parcoords"
           }
          ],
          "pie": [
           {
            "automargin": true,
            "type": "pie"
           }
          ],
          "scatter": [
           {
            "fillpattern": {
             "fillmode": "overlay",
             "size": 10,
             "solidity": 0.2
            },
            "type": "scatter"
           }
          ],
          "scatter3d": [
           {
            "line": {
             "colorbar": {
              "outlinewidth": 0,
              "ticks": ""
             }
            },
            "marker": {
             "colorbar": {
              "outlinewidth": 0,
              "ticks": ""
             }
            },
            "type": "scatter3d"
           }
          ],
          "scattercarpet": [
           {
            "marker": {
             "colorbar": {
              "outlinewidth": 0,
              "ticks": ""
             }
            },
            "type": "scattercarpet"
           }
          ],
          "scattergeo": [
           {
            "marker": {
             "colorbar": {
              "outlinewidth": 0,
              "ticks": ""
             }
            },
            "type": "scattergeo"
           }
          ],
          "scattergl": [
           {
            "marker": {
             "colorbar": {
              "outlinewidth": 0,
              "ticks": ""
             }
            },
            "type": "scattergl"
           }
          ],
          "scattermap": [
           {
            "marker": {
             "colorbar": {
              "outlinewidth": 0,
              "ticks": ""
             }
            },
            "type": "scattermap"
           }
          ],
          "scattermapbox": [
           {
            "marker": {
             "colorbar": {
              "outlinewidth": 0,
              "ticks": ""
             }
            },
            "type": "scattermapbox"
           }
          ],
          "scatterpolar": [
           {
            "marker": {
             "colorbar": {
              "outlinewidth": 0,
              "ticks": ""
             }
            },
            "type": "scatterpolar"
           }
          ],
          "scatterpolargl": [
           {
            "marker": {
             "colorbar": {
              "outlinewidth": 0,
              "ticks": ""
             }
            },
            "type": "scatterpolargl"
           }
          ],
          "scatterternary": [
           {
            "marker": {
             "colorbar": {
              "outlinewidth": 0,
              "ticks": ""
             }
            },
            "type": "scatterternary"
           }
          ],
          "surface": [
           {
            "colorbar": {
             "outlinewidth": 0,
             "ticks": ""
            },
            "colorscale": [
             [
              0,
              "#0d0887"
             ],
             [
              0.1111111111111111,
              "#46039f"
             ],
             [
              0.2222222222222222,
              "#7201a8"
             ],
             [
              0.3333333333333333,
              "#9c179e"
             ],
             [
              0.4444444444444444,
              "#bd3786"
             ],
             [
              0.5555555555555556,
              "#d8576b"
             ],
             [
              0.6666666666666666,
              "#ed7953"
             ],
             [
              0.7777777777777778,
              "#fb9f3a"
             ],
             [
              0.8888888888888888,
              "#fdca26"
             ],
             [
              1,
              "#f0f921"
             ]
            ],
            "type": "surface"
           }
          ],
          "table": [
           {
            "cells": {
             "fill": {
              "color": "#EBF0F8"
             },
             "line": {
              "color": "white"
             }
            },
            "header": {
             "fill": {
              "color": "#C8D4E3"
             },
             "line": {
              "color": "white"
             }
            },
            "type": "table"
           }
          ]
         },
         "layout": {
          "annotationdefaults": {
           "arrowcolor": "#2a3f5f",
           "arrowhead": 0,
           "arrowwidth": 1
          },
          "autotypenumbers": "strict",
          "coloraxis": {
           "colorbar": {
            "outlinewidth": 0,
            "ticks": ""
           }
          },
          "colorscale": {
           "diverging": [
            [
             0,
             "#8e0152"
            ],
            [
             0.1,
             "#c51b7d"
            ],
            [
             0.2,
             "#de77ae"
            ],
            [
             0.3,
             "#f1b6da"
            ],
            [
             0.4,
             "#fde0ef"
            ],
            [
             0.5,
             "#f7f7f7"
            ],
            [
             0.6,
             "#e6f5d0"
            ],
            [
             0.7,
             "#b8e186"
            ],
            [
             0.8,
             "#7fbc41"
            ],
            [
             0.9,
             "#4d9221"
            ],
            [
             1,
             "#276419"
            ]
           ],
           "sequential": [
            [
             0,
             "#0d0887"
            ],
            [
             0.1111111111111111,
             "#46039f"
            ],
            [
             0.2222222222222222,
             "#7201a8"
            ],
            [
             0.3333333333333333,
             "#9c179e"
            ],
            [
             0.4444444444444444,
             "#bd3786"
            ],
            [
             0.5555555555555556,
             "#d8576b"
            ],
            [
             0.6666666666666666,
             "#ed7953"
            ],
            [
             0.7777777777777778,
             "#fb9f3a"
            ],
            [
             0.8888888888888888,
             "#fdca26"
            ],
            [
             1,
             "#f0f921"
            ]
           ],
           "sequentialminus": [
            [
             0,
             "#0d0887"
            ],
            [
             0.1111111111111111,
             "#46039f"
            ],
            [
             0.2222222222222222,
             "#7201a8"
            ],
            [
             0.3333333333333333,
             "#9c179e"
            ],
            [
             0.4444444444444444,
             "#bd3786"
            ],
            [
             0.5555555555555556,
             "#d8576b"
            ],
            [
             0.6666666666666666,
             "#ed7953"
            ],
            [
             0.7777777777777778,
             "#fb9f3a"
            ],
            [
             0.8888888888888888,
             "#fdca26"
            ],
            [
             1,
             "#f0f921"
            ]
           ]
          },
          "colorway": [
           "#636efa",
           "#EF553B",
           "#00cc96",
           "#ab63fa",
           "#FFA15A",
           "#19d3f3",
           "#FF6692",
           "#B6E880",
           "#FF97FF",
           "#FECB52"
          ],
          "font": {
           "color": "#2a3f5f"
          },
          "geo": {
           "bgcolor": "white",
           "lakecolor": "white",
           "landcolor": "#E5ECF6",
           "showlakes": true,
           "showland": true,
           "subunitcolor": "white"
          },
          "hoverlabel": {
           "align": "left"
          },
          "hovermode": "closest",
          "mapbox": {
           "style": "light"
          },
          "paper_bgcolor": "white",
          "plot_bgcolor": "#E5ECF6",
          "polar": {
           "angularaxis": {
            "gridcolor": "white",
            "linecolor": "white",
            "ticks": ""
           },
           "bgcolor": "#E5ECF6",
           "radialaxis": {
            "gridcolor": "white",
            "linecolor": "white",
            "ticks": ""
           }
          },
          "scene": {
           "xaxis": {
            "backgroundcolor": "#E5ECF6",
            "gridcolor": "white",
            "gridwidth": 2,
            "linecolor": "white",
            "showbackground": true,
            "ticks": "",
            "zerolinecolor": "white"
           },
           "yaxis": {
            "backgroundcolor": "#E5ECF6",
            "gridcolor": "white",
            "gridwidth": 2,
            "linecolor": "white",
            "showbackground": true,
            "ticks": "",
            "zerolinecolor": "white"
           },
           "zaxis": {
            "backgroundcolor": "#E5ECF6",
            "gridcolor": "white",
            "gridwidth": 2,
            "linecolor": "white",
            "showbackground": true,
            "ticks": "",
            "zerolinecolor": "white"
           }
          },
          "shapedefaults": {
           "line": {
            "color": "#2a3f5f"
           }
          },
          "ternary": {
           "aaxis": {
            "gridcolor": "white",
            "linecolor": "white",
            "ticks": ""
           },
           "baxis": {
            "gridcolor": "white",
            "linecolor": "white",
            "ticks": ""
           },
           "bgcolor": "#E5ECF6",
           "caxis": {
            "gridcolor": "white",
            "linecolor": "white",
            "ticks": ""
           }
          },
          "title": {
           "x": 0.05
          },
          "xaxis": {
           "automargin": true,
           "gridcolor": "white",
           "linecolor": "white",
           "ticks": "",
           "title": {
            "standoff": 15
           },
           "zerolinecolor": "white",
           "zerolinewidth": 2
          },
          "yaxis": {
           "automargin": true,
           "gridcolor": "white",
           "linecolor": "white",
           "ticks": "",
           "title": {
            "standoff": 15
           },
           "zerolinecolor": "white",
           "zerolinewidth": 2
          }
         }
        },
        "title": {
         "text": "Distribución de usuarios totales"
        },
        "xaxis": {
         "anchor": "y2",
         "domain": [
          0,
          1
         ],
         "title": {
          "text": "Número de usuarios"
         },
         "zeroline": false
        },
        "yaxis": {
         "anchor": "free",
         "domain": [
          0,
          1
         ],
         "position": 0,
         "title": {
          "text": "Densidad"
         }
        }
       }
      }
     },
     "metadata": {},
     "output_type": "display_data"
    }
   ],
   "source": [
    "import plotly.figure_factory as ff\n",
    "\n",
    "fig = ff.create_distplot([df[\"num_usuarios\"]], group_labels=[\"Usuarios\"], show_hist=False, show_rug=False)\n",
    "fig.update_layout(\n",
    "    title=\"Distribución de usuarios totales\",\n",
    "    xaxis_title=\"Número de usuarios\",\n",
    "    yaxis_title=\"Densidad\"\n",
    ")\n",
    "fig.show()"
   ]
  },
  {
   "cell_type": "markdown",
   "metadata": {},
   "source": [
    "## Relación entre variables climáticas y la demanda"
   ]
  },
  {
   "cell_type": "code",
   "execution_count": 13,
   "metadata": {},
   "outputs": [
    {
     "ename": "ValueError",
     "evalue": "Value of 'x' is not the name of a column in 'data_frame'. Expected one of ['estacion', 'festivo', 'dia_semana', 'dia_laboral', 'sit_meteorologica', 'casual', 'registrado', 'num_usuarios', 'temperatura', 'temperatura_sensacion', 'humedad', 'velocidad_viento'] but received: windspeed",
     "output_type": "error",
     "traceback": [
      "\u001b[31m---------------------------------------------------------------------------\u001b[39m",
      "\u001b[31mValueError\u001b[39m                                Traceback (most recent call last)",
      "\u001b[36mCell\u001b[39m\u001b[36m \u001b[39m\u001b[32mIn[13]\u001b[39m\u001b[32m, line 3\u001b[39m\n\u001b[32m      1\u001b[39m fig1 = px.scatter(df, x=\u001b[33m'\u001b[39m\u001b[33mtemperatura\u001b[39m\u001b[33m'\u001b[39m, y=\u001b[33m'\u001b[39m\u001b[33mnum_usuarios\u001b[39m\u001b[33m'\u001b[39m, title=\u001b[33m'\u001b[39m\u001b[33mTemperatura vs Alquileres\u001b[39m\u001b[33m'\u001b[39m)\n\u001b[32m      2\u001b[39m fig2 = px.scatter(df, x=\u001b[33m'\u001b[39m\u001b[33mhumedad\u001b[39m\u001b[33m'\u001b[39m, y=\u001b[33m'\u001b[39m\u001b[33mnum_usuarios\u001b[39m\u001b[33m'\u001b[39m, title=\u001b[33m'\u001b[39m\u001b[33mHumedad vs Alquileres\u001b[39m\u001b[33m'\u001b[39m)\n\u001b[32m----> \u001b[39m\u001b[32m3\u001b[39m fig3 = \u001b[43mpx\u001b[49m\u001b[43m.\u001b[49m\u001b[43mscatter\u001b[49m\u001b[43m(\u001b[49m\u001b[43mdf\u001b[49m\u001b[43m,\u001b[49m\u001b[43m \u001b[49m\u001b[43mx\u001b[49m\u001b[43m=\u001b[49m\u001b[33;43m'\u001b[39;49m\u001b[33;43mwindspeed\u001b[39;49m\u001b[33;43m'\u001b[39;49m\u001b[43m,\u001b[49m\u001b[43m \u001b[49m\u001b[43my\u001b[49m\u001b[43m=\u001b[49m\u001b[33;43m'\u001b[39;49m\u001b[33;43mnum_usuarios\u001b[39;49m\u001b[33;43m'\u001b[39;49m\u001b[43m,\u001b[49m\u001b[43m \u001b[49m\u001b[43mtitle\u001b[49m\u001b[43m=\u001b[49m\u001b[33;43m'\u001b[39;49m\u001b[33;43mViento vs Alquileres\u001b[39;49m\u001b[33;43m'\u001b[39;49m\u001b[43m)\u001b[49m\n\u001b[32m      4\u001b[39m fig1.show()\n\u001b[32m      5\u001b[39m fig2.show()\n",
      "\u001b[36mFile \u001b[39m\u001b[32mc:\\Users\\Felix\\miniconda3\\Lib\\site-packages\\plotly\\express\\_chart_types.py:69\u001b[39m, in \u001b[36mscatter\u001b[39m\u001b[34m(data_frame, x, y, color, symbol, size, hover_name, hover_data, custom_data, text, facet_row, facet_col, facet_col_wrap, facet_row_spacing, facet_col_spacing, error_x, error_x_minus, error_y, error_y_minus, animation_frame, animation_group, category_orders, labels, orientation, color_discrete_sequence, color_discrete_map, color_continuous_scale, range_color, color_continuous_midpoint, symbol_sequence, symbol_map, opacity, size_max, marginal_x, marginal_y, trendline, trendline_options, trendline_color_override, trendline_scope, log_x, log_y, range_x, range_y, render_mode, title, subtitle, template, width, height)\u001b[39m\n\u001b[32m     14\u001b[39m \u001b[38;5;28;01mdef\u001b[39;00m\u001b[38;5;250m \u001b[39m\u001b[34mscatter\u001b[39m(\n\u001b[32m     15\u001b[39m     data_frame=\u001b[38;5;28;01mNone\u001b[39;00m,\n\u001b[32m     16\u001b[39m     x=\u001b[38;5;28;01mNone\u001b[39;00m,\n\u001b[32m   (...)\u001b[39m\u001b[32m     63\u001b[39m     height=\u001b[38;5;28;01mNone\u001b[39;00m,\n\u001b[32m     64\u001b[39m ) -> go.Figure:\n\u001b[32m     65\u001b[39m \u001b[38;5;250m    \u001b[39m\u001b[33;03m\"\"\"\u001b[39;00m\n\u001b[32m     66\u001b[39m \u001b[33;03m    In a scatter plot, each row of `data_frame` is represented by a symbol\u001b[39;00m\n\u001b[32m     67\u001b[39m \u001b[33;03m    mark in 2D space.\u001b[39;00m\n\u001b[32m     68\u001b[39m \u001b[33;03m    \"\"\"\u001b[39;00m\n\u001b[32m---> \u001b[39m\u001b[32m69\u001b[39m     \u001b[38;5;28;01mreturn\u001b[39;00m \u001b[43mmake_figure\u001b[49m\u001b[43m(\u001b[49m\u001b[43margs\u001b[49m\u001b[43m=\u001b[49m\u001b[38;5;28;43mlocals\u001b[39;49m\u001b[43m(\u001b[49m\u001b[43m)\u001b[49m\u001b[43m,\u001b[49m\u001b[43m \u001b[49m\u001b[43mconstructor\u001b[49m\u001b[43m=\u001b[49m\u001b[43mgo\u001b[49m\u001b[43m.\u001b[49m\u001b[43mScatter\u001b[49m\u001b[43m)\u001b[49m\n",
      "\u001b[36mFile \u001b[39m\u001b[32mc:\\Users\\Felix\\miniconda3\\Lib\\site-packages\\plotly\\express\\_core.py:2483\u001b[39m, in \u001b[36mmake_figure\u001b[39m\u001b[34m(args, constructor, trace_patch, layout_patch)\u001b[39m\n\u001b[32m   2480\u001b[39m layout_patch = layout_patch \u001b[38;5;129;01mor\u001b[39;00m {}\n\u001b[32m   2481\u001b[39m apply_default_cascade(args)\n\u001b[32m-> \u001b[39m\u001b[32m2483\u001b[39m args = \u001b[43mbuild_dataframe\u001b[49m\u001b[43m(\u001b[49m\u001b[43margs\u001b[49m\u001b[43m,\u001b[49m\u001b[43m \u001b[49m\u001b[43mconstructor\u001b[49m\u001b[43m)\u001b[49m\n\u001b[32m   2484\u001b[39m \u001b[38;5;28;01mif\u001b[39;00m constructor \u001b[38;5;129;01min\u001b[39;00m [go.Treemap, go.Sunburst, go.Icicle] \u001b[38;5;129;01mand\u001b[39;00m args[\u001b[33m\"\u001b[39m\u001b[33mpath\u001b[39m\u001b[33m\"\u001b[39m] \u001b[38;5;129;01mis\u001b[39;00m \u001b[38;5;129;01mnot\u001b[39;00m \u001b[38;5;28;01mNone\u001b[39;00m:\n\u001b[32m   2485\u001b[39m     args = process_dataframe_hierarchy(args)\n",
      "\u001b[36mFile \u001b[39m\u001b[32mc:\\Users\\Felix\\miniconda3\\Lib\\site-packages\\plotly\\express\\_core.py:1729\u001b[39m, in \u001b[36mbuild_dataframe\u001b[39m\u001b[34m(args, constructor)\u001b[39m\n\u001b[32m   1726\u001b[39m     args[\u001b[33m\"\u001b[39m\u001b[33mcolor\u001b[39m\u001b[33m\"\u001b[39m] = \u001b[38;5;28;01mNone\u001b[39;00m\n\u001b[32m   1727\u001b[39m \u001b[38;5;66;03m# now that things have been prepped, we do the systematic rewriting of `args`\u001b[39;00m\n\u001b[32m-> \u001b[39m\u001b[32m1729\u001b[39m df_output, wide_id_vars = \u001b[43mprocess_args_into_dataframe\u001b[49m\u001b[43m(\u001b[49m\n\u001b[32m   1730\u001b[39m \u001b[43m    \u001b[49m\u001b[43margs\u001b[49m\u001b[43m,\u001b[49m\n\u001b[32m   1731\u001b[39m \u001b[43m    \u001b[49m\u001b[43mwide_mode\u001b[49m\u001b[43m,\u001b[49m\n\u001b[32m   1732\u001b[39m \u001b[43m    \u001b[49m\u001b[43mvar_name\u001b[49m\u001b[43m,\u001b[49m\n\u001b[32m   1733\u001b[39m \u001b[43m    \u001b[49m\u001b[43mvalue_name\u001b[49m\u001b[43m,\u001b[49m\n\u001b[32m   1734\u001b[39m \u001b[43m    \u001b[49m\u001b[43mis_pd_like\u001b[49m\u001b[43m,\u001b[49m\n\u001b[32m   1735\u001b[39m \u001b[43m    \u001b[49m\u001b[43mnative_namespace\u001b[49m\u001b[43m,\u001b[49m\n\u001b[32m   1736\u001b[39m \u001b[43m\u001b[49m\u001b[43m)\u001b[49m\n\u001b[32m   1737\u001b[39m df_output: nw.DataFrame\n\u001b[32m   1738\u001b[39m \u001b[38;5;66;03m# now that `df_output` exists and `args` contains only references, we complete\u001b[39;00m\n\u001b[32m   1739\u001b[39m \u001b[38;5;66;03m# the special-case and wide-mode handling by further rewriting args and/or mutating\u001b[39;00m\n\u001b[32m   1740\u001b[39m \u001b[38;5;66;03m# df_output\u001b[39;00m\n",
      "\u001b[36mFile \u001b[39m\u001b[32mc:\\Users\\Felix\\miniconda3\\Lib\\site-packages\\plotly\\express\\_core.py:1330\u001b[39m, in \u001b[36mprocess_args_into_dataframe\u001b[39m\u001b[34m(args, wide_mode, var_name, value_name, is_pd_like, native_namespace)\u001b[39m\n\u001b[32m   1328\u001b[39m         \u001b[38;5;28;01mif\u001b[39;00m argument == \u001b[33m\"\u001b[39m\u001b[33mindex\u001b[39m\u001b[33m\"\u001b[39m:\n\u001b[32m   1329\u001b[39m             err_msg += \u001b[33m\"\u001b[39m\u001b[38;5;130;01m\\n\u001b[39;00m\u001b[33m To use the index, pass it in directly as `df.index`.\u001b[39m\u001b[33m\"\u001b[39m\n\u001b[32m-> \u001b[39m\u001b[32m1330\u001b[39m         \u001b[38;5;28;01mraise\u001b[39;00m \u001b[38;5;167;01mValueError\u001b[39;00m(err_msg)\n\u001b[32m   1331\u001b[39m \u001b[38;5;28;01melif\u001b[39;00m length \u001b[38;5;129;01mand\u001b[39;00m (actual_len := \u001b[38;5;28mlen\u001b[39m(df_input)) != length:\n\u001b[32m   1332\u001b[39m     \u001b[38;5;28;01mraise\u001b[39;00m \u001b[38;5;167;01mValueError\u001b[39;00m(\n\u001b[32m   1333\u001b[39m         \u001b[33m\"\u001b[39m\u001b[33mAll arguments should have the same length. \u001b[39m\u001b[33m\"\u001b[39m\n\u001b[32m   1334\u001b[39m         \u001b[33m\"\u001b[39m\u001b[33mThe length of column argument `df[\u001b[39m\u001b[38;5;132;01m%s\u001b[39;00m\u001b[33m]` is \u001b[39m\u001b[38;5;132;01m%d\u001b[39;00m\u001b[33m, whereas the \u001b[39m\u001b[33m\"\u001b[39m\n\u001b[32m   (...)\u001b[39m\u001b[32m   1341\u001b[39m         )\n\u001b[32m   1342\u001b[39m     )\n",
      "\u001b[31mValueError\u001b[39m: Value of 'x' is not the name of a column in 'data_frame'. Expected one of ['estacion', 'festivo', 'dia_semana', 'dia_laboral', 'sit_meteorologica', 'casual', 'registrado', 'num_usuarios', 'temperatura', 'temperatura_sensacion', 'humedad', 'velocidad_viento'] but received: windspeed"
     ]
    }
   ],
   "source": [
    "fig1 = px.scatter(df, x='temperatura', y='num_usuarios', title='Temperatura vs Alquileres')\n",
    "fig2 = px.scatter(df, x='humedad', y='num_usuarios', title='Humedad vs Alquileres')\n",
    "fig3 = px.scatter(df, x='windspeed', y='num_usuarios', title='Viento vs Alquileres')\n",
    "fig1.show()\n",
    "fig2.show()\n",
    "fig3.show()"
   ]
  },
  {
   "cell_type": "markdown",
   "metadata": {},
   "source": [
    "## Efecto del día de la semana, estación y feriados"
   ]
  },
  {
   "cell_type": "code",
   "execution_count": null,
   "metadata": {},
   "outputs": [],
   "source": [
    "fig = px.box(df, x='weekday', y='num_usuarios', title='Alquileres por día de la semana')\n",
    "fig.show()\n",
    "fig = px.box(df, x='season', y='num_usuarios', title='Alquileres por estación')\n",
    "fig.show()\n",
    "fig = px.box(df, x='holiday', y='num_usuarios', title='Alquileres en días festivos vs normales')\n",
    "fig.show()"
   ]
  },
  {
   "cell_type": "markdown",
   "metadata": {},
   "source": [
    "## Matriz de correlación entre variables"
   ]
  },
  {
   "cell_type": "code",
   "execution_count": null,
   "metadata": {},
   "outputs": [],
   "source": [
    "\n",
    "corrs = df[['temp', 'atemp', 'hum', 'windspeed', 'num_usuarios']].corr().round(2)\n",
    "fig = ff.create_annotated_heatmap(\n",
    "    z=corrs.values,\n",
    "    x=list(corrs.columns),\n",
    "    y=list(corrs.index),\n",
    "    annotation_text=corrs.values,\n",
    "    colorscale='Viridis')\n",
    "fig.update_layout(title='Matriz de correlación')\n",
    "fig.show()"
   ]
  }
 ],
 "metadata": {
  "kernelspec": {
   "display_name": "base",
   "language": "python",
   "name": "python3"
  },
  "language_info": {
   "codemirror_mode": {
    "name": "ipython",
    "version": 3
   },
   "file_extension": ".py",
   "mimetype": "text/x-python",
   "name": "python",
   "nbconvert_exporter": "python",
   "pygments_lexer": "ipython3",
   "version": "3.13.2"
  }
 },
 "nbformat": 4,
 "nbformat_minor": 4
}
