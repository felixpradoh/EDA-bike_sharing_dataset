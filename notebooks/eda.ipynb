{
 "cells": [
  {
   "cell_type": "markdown",
   "metadata": {},
   "source": [
    "# 0. Librerías\n",
    "\n",
    "Cargamos las librerias necesarias para ejecutar el cuaderno."
   ]
  },
  {
   "cell_type": "code",
   "execution_count": 1,
   "metadata": {},
   "outputs": [],
   "source": [
    "import pandas as pd\n",
    "import plotly.express as px\n",
    "import plotly.figure_factory as ff"
   ]
  },
  {
   "cell_type": "markdown",
   "metadata": {},
   "source": [
    "# 1. Carga de Datos: Exploración del alquiler de bicicletas\n",
    "\n",
    "Exploramos el dataset de Bikeshare para entender cómo el clima, la estacionalidad y los días festivos afectan la demanda de bicicletas.\n",
    "\n",
    "Este dataset viene de serie con cierto tratamiento de los datos (ej.: la normalización de las temperaturas, humedad, velocidad del viento...)"
   ]
  },
  {
   "cell_type": "code",
   "execution_count": 2,
   "metadata": {},
   "outputs": [
    {
     "data": {
      "text/html": [
       "<div>\n",
       "<style scoped>\n",
       "    .dataframe tbody tr th:only-of-type {\n",
       "        vertical-align: middle;\n",
       "    }\n",
       "\n",
       "    .dataframe tbody tr th {\n",
       "        vertical-align: top;\n",
       "    }\n",
       "\n",
       "    .dataframe thead th {\n",
       "        text-align: right;\n",
       "    }\n",
       "</style>\n",
       "<table border=\"1\" class=\"dataframe\">\n",
       "  <thead>\n",
       "    <tr style=\"text-align: right;\">\n",
       "      <th></th>\n",
       "      <th>instant</th>\n",
       "      <th>dteday</th>\n",
       "      <th>season</th>\n",
       "      <th>yr</th>\n",
       "      <th>mnth</th>\n",
       "      <th>hr</th>\n",
       "      <th>holiday</th>\n",
       "      <th>weekday</th>\n",
       "      <th>workingday</th>\n",
       "      <th>weathersit</th>\n",
       "      <th>temp</th>\n",
       "      <th>atemp</th>\n",
       "      <th>hum</th>\n",
       "      <th>windspeed</th>\n",
       "      <th>casual</th>\n",
       "      <th>registered</th>\n",
       "      <th>cnt</th>\n",
       "    </tr>\n",
       "  </thead>\n",
       "  <tbody>\n",
       "    <tr>\n",
       "      <th>0</th>\n",
       "      <td>1</td>\n",
       "      <td>2011-01-01</td>\n",
       "      <td>1</td>\n",
       "      <td>0</td>\n",
       "      <td>1</td>\n",
       "      <td>0</td>\n",
       "      <td>0</td>\n",
       "      <td>6</td>\n",
       "      <td>0</td>\n",
       "      <td>1</td>\n",
       "      <td>0.24</td>\n",
       "      <td>0.2879</td>\n",
       "      <td>0.81</td>\n",
       "      <td>0.0</td>\n",
       "      <td>3</td>\n",
       "      <td>13</td>\n",
       "      <td>16</td>\n",
       "    </tr>\n",
       "    <tr>\n",
       "      <th>1</th>\n",
       "      <td>2</td>\n",
       "      <td>2011-01-01</td>\n",
       "      <td>1</td>\n",
       "      <td>0</td>\n",
       "      <td>1</td>\n",
       "      <td>1</td>\n",
       "      <td>0</td>\n",
       "      <td>6</td>\n",
       "      <td>0</td>\n",
       "      <td>1</td>\n",
       "      <td>0.22</td>\n",
       "      <td>0.2727</td>\n",
       "      <td>0.80</td>\n",
       "      <td>0.0</td>\n",
       "      <td>8</td>\n",
       "      <td>32</td>\n",
       "      <td>40</td>\n",
       "    </tr>\n",
       "    <tr>\n",
       "      <th>2</th>\n",
       "      <td>3</td>\n",
       "      <td>2011-01-01</td>\n",
       "      <td>1</td>\n",
       "      <td>0</td>\n",
       "      <td>1</td>\n",
       "      <td>2</td>\n",
       "      <td>0</td>\n",
       "      <td>6</td>\n",
       "      <td>0</td>\n",
       "      <td>1</td>\n",
       "      <td>0.22</td>\n",
       "      <td>0.2727</td>\n",
       "      <td>0.80</td>\n",
       "      <td>0.0</td>\n",
       "      <td>5</td>\n",
       "      <td>27</td>\n",
       "      <td>32</td>\n",
       "    </tr>\n",
       "    <tr>\n",
       "      <th>3</th>\n",
       "      <td>4</td>\n",
       "      <td>2011-01-01</td>\n",
       "      <td>1</td>\n",
       "      <td>0</td>\n",
       "      <td>1</td>\n",
       "      <td>3</td>\n",
       "      <td>0</td>\n",
       "      <td>6</td>\n",
       "      <td>0</td>\n",
       "      <td>1</td>\n",
       "      <td>0.24</td>\n",
       "      <td>0.2879</td>\n",
       "      <td>0.75</td>\n",
       "      <td>0.0</td>\n",
       "      <td>3</td>\n",
       "      <td>10</td>\n",
       "      <td>13</td>\n",
       "    </tr>\n",
       "    <tr>\n",
       "      <th>4</th>\n",
       "      <td>5</td>\n",
       "      <td>2011-01-01</td>\n",
       "      <td>1</td>\n",
       "      <td>0</td>\n",
       "      <td>1</td>\n",
       "      <td>4</td>\n",
       "      <td>0</td>\n",
       "      <td>6</td>\n",
       "      <td>0</td>\n",
       "      <td>1</td>\n",
       "      <td>0.24</td>\n",
       "      <td>0.2879</td>\n",
       "      <td>0.75</td>\n",
       "      <td>0.0</td>\n",
       "      <td>0</td>\n",
       "      <td>1</td>\n",
       "      <td>1</td>\n",
       "    </tr>\n",
       "  </tbody>\n",
       "</table>\n",
       "</div>"
      ],
      "text/plain": [
       "   instant      dteday  season  yr  mnth  hr  holiday  weekday  workingday  \\\n",
       "0        1  2011-01-01       1   0     1   0        0        6           0   \n",
       "1        2  2011-01-01       1   0     1   1        0        6           0   \n",
       "2        3  2011-01-01       1   0     1   2        0        6           0   \n",
       "3        4  2011-01-01       1   0     1   3        0        6           0   \n",
       "4        5  2011-01-01       1   0     1   4        0        6           0   \n",
       "\n",
       "   weathersit  temp   atemp   hum  windspeed  casual  registered  cnt  \n",
       "0           1  0.24  0.2879  0.81        0.0       3          13   16  \n",
       "1           1  0.22  0.2727  0.80        0.0       8          32   40  \n",
       "2           1  0.22  0.2727  0.80        0.0       5          27   32  \n",
       "3           1  0.24  0.2879  0.75        0.0       3          10   13  \n",
       "4           1  0.24  0.2879  0.75        0.0       0           1    1  "
      ]
     },
     "execution_count": 2,
     "metadata": {},
     "output_type": "execute_result"
    }
   ],
   "source": [
    "# Carga del dataset por hora\n",
    "df = pd.read_csv(\"../data/hour.csv\")\n",
    "# Leemos las primeras entradas del dataset\n",
    "df.head()"
   ]
  },
  {
   "cell_type": "markdown",
   "metadata": {},
   "source": [
    "### Descripción de las columnas del dataset\n",
    "\n",
    "El archivo `/data/readme.txt` aporta información sobre las columnas presentes en el dataset.\n",
    "\n",
    "- **instant**: índice del registro\n",
    "- **dteday**: fecha\n",
    "- **season**: estación (1: primavera, 2: verano, 3: otoño, 4: invierno)\n",
    "- **yr**: año (0: 2011, 1: 2012)\n",
    "- **mnth**: mes (1 a 12)\n",
    "- **hr**: hora (0 a 23)\n",
    "- **holiday**: si el día es festivo (1) o no (0)\n",
    "- **weekday**: día de la semana (0: domingo, 6: sábado)\n",
    "- **workingday**: si es día laboral (1) o no (0)\n",
    "- **weathersit**: situación climática (1: Despejado, 2: Niebla/Nubes, 3: Lluvia ligera/Nieve, 4: Lluvia intensa/Nieve)\n",
    "- **temp**: temperatura normalizada (dividida por el valor max 41)\n",
    "- **atemp**: sensación térmica normalizada (dividida por el valor max 50)\n",
    "- **hum**: humedad normalizada (dividida por 100, tanto por 1)\n",
    "- **windspeed**: velocidad del viento normalizada (dividida por el valor max 67)\n",
    "- **casual**: número de usuarios ocasionales\n",
    "- **registered**: número de usuarios registrados\n",
    "- **cnt**: total de alquileres de bicicletas (casual + registrados)\n"
   ]
  },
  {
   "cell_type": "markdown",
   "metadata": {},
   "source": [
    "Puesto que el dataset contiene varias columnas con valores normalizados y nuestro objetivo en este notebook es realizar una exploración descriptiva (no preparar los datos para un modelo predictivo concreto), vamos a realizar los siguientes pasos para facilitar la interpretación de los resultados:\n",
    "\n",
    "- Renombrar las columnas para que sean más comprensibles.\n",
    "- Desnormalizar las columnas que contienen valores escalados, devolviéndolas a sus unidades originales.\n",
    "- Crear un índice temporal a partir de la fecha y la hora.\n",
    "- Eliminar columnas que no son necesarias para el análisis exploratorio.\n",
    "\n",
    "Estas transformaciones permitirán interpretar los datos de manera más clara y realizar visualizaciones más informativas."
   ]
  },
  {
   "cell_type": "code",
   "execution_count": 3,
   "metadata": {},
   "outputs": [],
   "source": [
    "# Renombramos columnas para facilitar su comprensión\n",
    "df = df.rename(columns={\n",
    "    \"instant\": \"instante\",\n",
    "    \"dteday\": \"fecha\",\n",
    "    \"season\": \"estacion\",\n",
    "    \"yr\": \"año\",\n",
    "    \"mnth\": \"mes\",\n",
    "    \"hr\": \"hora\",\n",
    "    \"holiday\": \"festivo\",\n",
    "    \"weekday\": \"dia_semana\",\n",
    "    \"workingday\": \"dia_laboral\",\n",
    "    \"weathersit\": \"sit_meteorologica\",\n",
    "    \"hum\": \"norm_hum\",\n",
    "    \"temp\": \"norm_temp\",\n",
    "    \"atemp\": \"norm_atemp\",\n",
    "    \"windspeed\": \"norm_windspeed\",\n",
    "    \"casual\": \"casual\",\n",
    "    \"registered\": \"registrado\",\n",
    "    \"cnt\": \"num_usuarios\"\n",
    "})"
   ]
  },
  {
   "cell_type": "code",
   "execution_count": 4,
   "metadata": {},
   "outputs": [],
   "source": [
    "# Desnormalizamos las columnas previamente normalizadas\n",
    "df[\"temperatura\"] = (df[\"norm_temp\"] * 41).round(1) \n",
    "df[\"temperatura_sensacion\"] = (df[\"norm_atemp\"] * 50).round(1)\n",
    "df[\"humedad\"] = (df[\"norm_hum\"] * 100).round(2)\n",
    "df[\"velocidad_viento\"] = (df[\"norm_windspeed\"] * 67).round(2)"
   ]
  },
  {
   "cell_type": "code",
   "execution_count": 5,
   "metadata": {},
   "outputs": [],
   "source": [
    "# Convertimos la columna 'dteday' a tipo datetime\n",
    "df[\"timestamp\"] = pd.to_datetime(df[\"fecha\"]) + pd.to_timedelta(df[\"hora\"], unit=\"h\")\n",
    "df[\"timestamp\"] = df[\"timestamp\"].dt.strftime(\"%Y-%m-%d %H:%M\")\n",
    "df = df.set_index(\"timestamp\")"
   ]
  },
  {
   "cell_type": "code",
   "execution_count": 6,
   "metadata": {},
   "outputs": [],
   "source": [
    "# Eliminamos columnas innecesarias por ahora\n",
    "df = df.drop(columns=[\"instante\", \"año\", \"mes\", \"hora\", \"fecha\", \"norm_temp\", \"norm_atemp\", \"norm_hum\", \"norm_windspeed\"], axis=1)"
   ]
  },
  {
   "cell_type": "markdown",
   "metadata": {},
   "source": [
    "## Descripción del dataset\n",
    "\n",
    "Una vez seleccionadas las columnas necesarias para el análisis, vamos a ver una descripción de los valores que presentan cada una."
   ]
  },
  {
   "cell_type": "code",
   "execution_count": 9,
   "metadata": {},
   "outputs": [
    {
     "data": {
      "text/html": [
       "<div>\n",
       "<style scoped>\n",
       "    .dataframe tbody tr th:only-of-type {\n",
       "        vertical-align: middle;\n",
       "    }\n",
       "\n",
       "    .dataframe tbody tr th {\n",
       "        vertical-align: top;\n",
       "    }\n",
       "\n",
       "    .dataframe thead th {\n",
       "        text-align: right;\n",
       "    }\n",
       "</style>\n",
       "<table border=\"1\" class=\"dataframe\">\n",
       "  <thead>\n",
       "    <tr style=\"text-align: right;\">\n",
       "      <th></th>\n",
       "      <th>estacion</th>\n",
       "      <th>festivo</th>\n",
       "      <th>dia_semana</th>\n",
       "      <th>dia_laboral</th>\n",
       "      <th>sit_meteorologica</th>\n",
       "      <th>casual</th>\n",
       "      <th>registrado</th>\n",
       "      <th>num_usuarios</th>\n",
       "      <th>temperatura</th>\n",
       "      <th>temperatura_sensacion</th>\n",
       "      <th>humedad</th>\n",
       "      <th>velocidad_viento</th>\n",
       "    </tr>\n",
       "  </thead>\n",
       "  <tbody>\n",
       "    <tr>\n",
       "      <th>count</th>\n",
       "      <td>17379.000000</td>\n",
       "      <td>17379.000000</td>\n",
       "      <td>17379.000000</td>\n",
       "      <td>17379.000000</td>\n",
       "      <td>17379.000000</td>\n",
       "      <td>17379.000000</td>\n",
       "      <td>17379.000000</td>\n",
       "      <td>17379.000000</td>\n",
       "      <td>17379.000000</td>\n",
       "      <td>17379.000000</td>\n",
       "      <td>17379.000000</td>\n",
       "      <td>17379.000000</td>\n",
       "    </tr>\n",
       "    <tr>\n",
       "      <th>mean</th>\n",
       "      <td>2.501640</td>\n",
       "      <td>0.028770</td>\n",
       "      <td>3.003683</td>\n",
       "      <td>0.682721</td>\n",
       "      <td>1.425283</td>\n",
       "      <td>35.676218</td>\n",
       "      <td>153.786869</td>\n",
       "      <td>189.463088</td>\n",
       "      <td>20.374636</td>\n",
       "      <td>23.791783</td>\n",
       "      <td>62.722884</td>\n",
       "      <td>12.736233</td>\n",
       "    </tr>\n",
       "    <tr>\n",
       "      <th>std</th>\n",
       "      <td>1.106918</td>\n",
       "      <td>0.167165</td>\n",
       "      <td>2.005771</td>\n",
       "      <td>0.465431</td>\n",
       "      <td>0.639357</td>\n",
       "      <td>49.305030</td>\n",
       "      <td>151.357286</td>\n",
       "      <td>181.387599</td>\n",
       "      <td>7.894645</td>\n",
       "      <td>8.589473</td>\n",
       "      <td>19.292983</td>\n",
       "      <td>8.196891</td>\n",
       "    </tr>\n",
       "    <tr>\n",
       "      <th>min</th>\n",
       "      <td>1.000000</td>\n",
       "      <td>0.000000</td>\n",
       "      <td>0.000000</td>\n",
       "      <td>0.000000</td>\n",
       "      <td>1.000000</td>\n",
       "      <td>0.000000</td>\n",
       "      <td>0.000000</td>\n",
       "      <td>1.000000</td>\n",
       "      <td>0.800000</td>\n",
       "      <td>0.000000</td>\n",
       "      <td>0.000000</td>\n",
       "      <td>0.000000</td>\n",
       "    </tr>\n",
       "    <tr>\n",
       "      <th>25%</th>\n",
       "      <td>2.000000</td>\n",
       "      <td>0.000000</td>\n",
       "      <td>1.000000</td>\n",
       "      <td>0.000000</td>\n",
       "      <td>1.000000</td>\n",
       "      <td>4.000000</td>\n",
       "      <td>34.000000</td>\n",
       "      <td>40.000000</td>\n",
       "      <td>13.900000</td>\n",
       "      <td>16.700000</td>\n",
       "      <td>48.000000</td>\n",
       "      <td>7.000000</td>\n",
       "    </tr>\n",
       "    <tr>\n",
       "      <th>50%</th>\n",
       "      <td>3.000000</td>\n",
       "      <td>0.000000</td>\n",
       "      <td>3.000000</td>\n",
       "      <td>1.000000</td>\n",
       "      <td>1.000000</td>\n",
       "      <td>17.000000</td>\n",
       "      <td>115.000000</td>\n",
       "      <td>142.000000</td>\n",
       "      <td>20.500000</td>\n",
       "      <td>24.200000</td>\n",
       "      <td>63.000000</td>\n",
       "      <td>13.000000</td>\n",
       "    </tr>\n",
       "    <tr>\n",
       "      <th>75%</th>\n",
       "      <td>3.000000</td>\n",
       "      <td>0.000000</td>\n",
       "      <td>5.000000</td>\n",
       "      <td>1.000000</td>\n",
       "      <td>2.000000</td>\n",
       "      <td>48.000000</td>\n",
       "      <td>220.000000</td>\n",
       "      <td>281.000000</td>\n",
       "      <td>27.100000</td>\n",
       "      <td>31.100000</td>\n",
       "      <td>78.000000</td>\n",
       "      <td>17.000000</td>\n",
       "    </tr>\n",
       "    <tr>\n",
       "      <th>max</th>\n",
       "      <td>4.000000</td>\n",
       "      <td>1.000000</td>\n",
       "      <td>6.000000</td>\n",
       "      <td>1.000000</td>\n",
       "      <td>4.000000</td>\n",
       "      <td>367.000000</td>\n",
       "      <td>886.000000</td>\n",
       "      <td>977.000000</td>\n",
       "      <td>41.000000</td>\n",
       "      <td>50.000000</td>\n",
       "      <td>100.000000</td>\n",
       "      <td>57.000000</td>\n",
       "    </tr>\n",
       "  </tbody>\n",
       "</table>\n",
       "</div>"
      ],
      "text/plain": [
       "           estacion       festivo    dia_semana   dia_laboral  \\\n",
       "count  17379.000000  17379.000000  17379.000000  17379.000000   \n",
       "mean       2.501640      0.028770      3.003683      0.682721   \n",
       "std        1.106918      0.167165      2.005771      0.465431   \n",
       "min        1.000000      0.000000      0.000000      0.000000   \n",
       "25%        2.000000      0.000000      1.000000      0.000000   \n",
       "50%        3.000000      0.000000      3.000000      1.000000   \n",
       "75%        3.000000      0.000000      5.000000      1.000000   \n",
       "max        4.000000      1.000000      6.000000      1.000000   \n",
       "\n",
       "       sit_meteorologica        casual    registrado  num_usuarios  \\\n",
       "count       17379.000000  17379.000000  17379.000000  17379.000000   \n",
       "mean            1.425283     35.676218    153.786869    189.463088   \n",
       "std             0.639357     49.305030    151.357286    181.387599   \n",
       "min             1.000000      0.000000      0.000000      1.000000   \n",
       "25%             1.000000      4.000000     34.000000     40.000000   \n",
       "50%             1.000000     17.000000    115.000000    142.000000   \n",
       "75%             2.000000     48.000000    220.000000    281.000000   \n",
       "max             4.000000    367.000000    886.000000    977.000000   \n",
       "\n",
       "        temperatura  temperatura_sensacion       humedad  velocidad_viento  \n",
       "count  17379.000000           17379.000000  17379.000000      17379.000000  \n",
       "mean      20.374636              23.791783     62.722884         12.736233  \n",
       "std        7.894645               8.589473     19.292983          8.196891  \n",
       "min        0.800000               0.000000      0.000000          0.000000  \n",
       "25%       13.900000              16.700000     48.000000          7.000000  \n",
       "50%       20.500000              24.200000     63.000000         13.000000  \n",
       "75%       27.100000              31.100000     78.000000         17.000000  \n",
       "max       41.000000              50.000000    100.000000         57.000000  "
      ]
     },
     "execution_count": 9,
     "metadata": {},
     "output_type": "execute_result"
    }
   ],
   "source": [
    "df.describe()"
   ]
  },
  {
   "cell_type": "code",
   "execution_count": 10,
   "metadata": {},
   "outputs": [
    {
     "name": "stdout",
     "output_type": "stream",
     "text": [
      "<class 'pandas.core.frame.DataFrame'>\n",
      "Index: 17379 entries, 2011-01-01 00:00 to 2012-12-31 23:00\n",
      "Data columns (total 12 columns):\n",
      " #   Column                 Non-Null Count  Dtype  \n",
      "---  ------                 --------------  -----  \n",
      " 0   estacion               17379 non-null  int64  \n",
      " 1   festivo                17379 non-null  int64  \n",
      " 2   dia_semana             17379 non-null  int64  \n",
      " 3   dia_laboral            17379 non-null  int64  \n",
      " 4   sit_meteorologica      17379 non-null  int64  \n",
      " 5   casual                 17379 non-null  int64  \n",
      " 6   registrado             17379 non-null  int64  \n",
      " 7   num_usuarios           17379 non-null  int64  \n",
      " 8   temperatura            17379 non-null  float64\n",
      " 9   temperatura_sensacion  17379 non-null  float64\n",
      " 10  humedad                17379 non-null  float64\n",
      " 11  velocidad_viento       17379 non-null  float64\n",
      "dtypes: float64(4), int64(8)\n",
      "memory usage: 1.7+ MB\n"
     ]
    }
   ],
   "source": [
    "df.info()"
   ]
  },
  {
   "cell_type": "code",
   "execution_count": 11,
   "metadata": {},
   "outputs": [
    {
     "data": {
      "text/plain": [
       "estacion                   4\n",
       "festivo                    2\n",
       "dia_semana                 7\n",
       "dia_laboral                2\n",
       "sit_meteorologica          4\n",
       "casual                   322\n",
       "registrado               776\n",
       "num_usuarios             869\n",
       "temperatura               50\n",
       "temperatura_sensacion     65\n",
       "humedad                   89\n",
       "velocidad_viento          30\n",
       "dtype: int64"
      ]
     },
     "execution_count": 11,
     "metadata": {},
     "output_type": "execute_result"
    }
   ],
   "source": [
    "df.nunique()"
   ]
  },
  {
   "cell_type": "code",
   "execution_count": 8,
   "metadata": {},
   "outputs": [
    {
     "ename": "SyntaxError",
     "evalue": "'break' outside loop (668683560.py, line 1)",
     "output_type": "error",
     "traceback": [
      "  \u001b[36mCell\u001b[39m\u001b[36m \u001b[39m\u001b[32mIn[8]\u001b[39m\u001b[32m, line 1\u001b[39m\n\u001b[31m    \u001b[39m\u001b[31mbreak\u001b[39m\n    ^\n\u001b[31mSyntaxError\u001b[39m\u001b[31m:\u001b[39m 'break' outside loop\n"
     ]
    }
   ],
   "source": [
    "break"
   ]
  },
  {
   "cell_type": "markdown",
   "metadata": {},
   "source": [
    "## Distribución de la demanda de bicicletas"
   ]
  },
  {
   "cell_type": "code",
   "execution_count": null,
   "metadata": {},
   "outputs": [],
   "source": [
    "fig = px.histogram(df, x='cnt', nbins=30, title='Distribución de la demanda de bicicletas')\n",
    "fig.show()"
   ]
  },
  {
   "cell_type": "markdown",
   "metadata": {},
   "source": [
    "## Relación entre variables climáticas y la demanda"
   ]
  },
  {
   "cell_type": "code",
   "execution_count": null,
   "metadata": {},
   "outputs": [],
   "source": [
    "fig1 = px.scatter(df, x='temp', y='cnt', title='Temperatura vs Alquileres')\n",
    "fig2 = px.scatter(df, x='hum', y='cnt', title='Humedad vs Alquileres')\n",
    "fig3 = px.scatter(df, x='windspeed', y='cnt', title='Viento vs Alquileres')\n",
    "fig1.show()\n",
    "fig2.show()\n",
    "fig3.show()"
   ]
  },
  {
   "cell_type": "markdown",
   "metadata": {},
   "source": [
    "## Efecto del día de la semana, estación y feriados"
   ]
  },
  {
   "cell_type": "code",
   "execution_count": null,
   "metadata": {},
   "outputs": [],
   "source": [
    "fig = px.box(df, x='weekday', y='cnt', title='Alquileres por día de la semana')\n",
    "fig.show()\n",
    "fig = px.box(df, x='season', y='cnt', title='Alquileres por estación')\n",
    "fig.show()\n",
    "fig = px.box(df, x='holiday', y='cnt', title='Alquileres en días festivos vs normales')\n",
    "fig.show()"
   ]
  },
  {
   "cell_type": "markdown",
   "metadata": {},
   "source": [
    "## Matriz de correlación entre variables"
   ]
  },
  {
   "cell_type": "code",
   "execution_count": null,
   "metadata": {},
   "outputs": [],
   "source": [
    "\n",
    "corrs = df[['temp', 'atemp', 'hum', 'windspeed', 'cnt']].corr().round(2)\n",
    "fig = ff.create_annotated_heatmap(\n",
    "    z=corrs.values,\n",
    "    x=list(corrs.columns),\n",
    "    y=list(corrs.index),\n",
    "    annotation_text=corrs.values,\n",
    "    colorscale='Viridis')\n",
    "fig.update_layout(title='Matriz de correlación')\n",
    "fig.show()"
   ]
  }
 ],
 "metadata": {
  "kernelspec": {
   "display_name": "base",
   "language": "python",
   "name": "python3"
  },
  "language_info": {
   "codemirror_mode": {
    "name": "ipython",
    "version": 3
   },
   "file_extension": ".py",
   "mimetype": "text/x-python",
   "name": "python",
   "nbconvert_exporter": "python",
   "pygments_lexer": "ipython3",
   "version": "3.13.2"
  }
 },
 "nbformat": 4,
 "nbformat_minor": 4
}
